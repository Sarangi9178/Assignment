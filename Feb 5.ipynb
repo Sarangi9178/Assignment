{
 "cells": [
  {
   "cell_type": "raw",
   "id": "0aedfaf6-d6ec-4224-862d-609a56013b81",
   "metadata": {},
   "source": [
    "Q1. Explain Class and Object with respect to Object-Oriented Programming. Give a suitable example.\n",
    "Q2. Name the four pillars of OOPs.\n",
    "Q3. Explain why the __init__() function is used. Give a suitable example.\n",
    "Q4. Why self is used in OOPs?\n",
    "Q5. What is inheritance? Give an example for each type of inheritance."
   ]
  },
  {
   "cell_type": "raw",
   "id": "4255f024-436f-4306-8037-1363e895ad3a",
   "metadata": {},
   "source": [
    "Q1. Class and Object are two fundamental concepts in Object-Oriented Programming (OOP). A Class is a blueprint or a template for creating objects that define the attributes and behavior of the object. It provides the attributes and methods that objects can use, allowing them to interact with each other. An object is an instance of a class. It is a concrete entity created based on the definition provided by the class.\n",
    "\n",
    "For example, let's consider the class \"Person.\" It can define attributes such as name, age, and gender, and methods such as \"speak\" and \"walk.\" Now, we can create multiple objects of this class, such as John, Mary, and Tom, each with its own attributes and behaviors."
   ]
  },
  {
   "cell_type": "raw",
   "id": "584fa8f4-8a5a-4930-9b8d-a750bc37ec5a",
   "metadata": {},
   "source": [
    "Q2. The four pillars of OOPs are:\n",
    "\n",
    "Abstraction: It refers to the process of hiding the complex details and providing a simplified interface for the user. It is achieved through abstract classes and interfaces.\n",
    "Encapsulation: It refers to the concept of combining data and functions into a single unit called a class. It helps in preventing unauthorized access to data and provides security and stability to the program.\n",
    "Inheritance: It refers to the process of creating new classes from existing classes. The new classes can inherit the attributes and methods of the parent class, allowing the reuse of code.\n",
    "Polymorphism: It refers to the concept of using a single interface to represent different forms. It allows the same method to have different implementations in different classes."
   ]
  },
  {
   "cell_type": "code",
   "execution_count": null,
   "id": "7e88cb48-2020-49b7-a3a1-93a4312181f3",
   "metadata": {},
   "outputs": [],
   "source": []
  }
 ],
 "metadata": {
  "kernelspec": {
   "display_name": "Python 3 (ipykernel)",
   "language": "python",
   "name": "python3"
  },
  "language_info": {
   "codemirror_mode": {
    "name": "ipython",
    "version": 3
   },
   "file_extension": ".py",
   "mimetype": "text/x-python",
   "name": "python",
   "nbconvert_exporter": "python",
   "pygments_lexer": "ipython3",
   "version": "3.10.8"
  }
 },
 "nbformat": 4,
 "nbformat_minor": 5
}
